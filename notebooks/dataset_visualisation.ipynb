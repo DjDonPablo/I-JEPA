{
 "cells": [
  {
   "cell_type": "code",
   "execution_count": 1,
   "metadata": {},
   "outputs": [],
   "source": [
    "import pandas as pd\n",
    "import torch\n",
    "import os\n",
    "import numpy as np\n",
    "import matplotlib.pyplot as plt\n",
    "\n",
    "from torch.utils.data import Dataset\n",
    "from torchvision.transforms.functional import pil_to_tensor\n",
    "from PIL import Image\n",
    "from typing import Tuple"
   ]
  },
  {
   "cell_type": "code",
   "execution_count": 2,
   "metadata": {},
   "outputs": [],
   "source": [
    "class AffectNetDataset(Dataset):\n",
    "    def __init__(\n",
    "        self,\n",
    "        dataset_path: str,\n",
    "        labels_filename: str,\n",
    "        img_size: int,\n",
    "        patch_size: int,\n",
    "        nb_mask: int = 4,\n",
    "        aspect_ratio_range_mask: Tuple[int, int] = (0.75, 1.5),\n",
    "        scale_range_mask: Tuple[int, int] = (0.15, 0.2),\n",
    "        aspect_ratio_range_context: Tuple[int, int] = (\n",
    "            1.0,\n",
    "            1.0,\n",
    "        ),  # unit aspect ratio for context\n",
    "        scale_range_context: Tuple[int, int] = (0.85, 1.0),\n",
    "    ):\n",
    "        self.df = pd.read_csv(os.path.join(dataset_path, labels_filename))\n",
    "        self.dataset_path = dataset_path\n",
    "\n",
    "        self.img_size = img_size\n",
    "        self.patch_size = patch_size\n",
    "        self.sqrt_count_patch = img_size // patch_size\n",
    "        self.nb_mask = nb_mask\n",
    "\n",
    "        self.aspect_ratio_range_mask = aspect_ratio_range_mask\n",
    "        self.scale_range_mask = scale_range_mask\n",
    "\n",
    "        self.aspect_ratio_range_context = aspect_ratio_range_context\n",
    "        self.scale_range_context = scale_range_context\n",
    "\n",
    "    def __len__(self):\n",
    "        \"\"\"\n",
    "        Returns the length of the dataset, which is the length of `df`.\n",
    "        \"\"\"\n",
    "        return len(self.df)\n",
    "\n",
    "    def get_random_width_and_height(self, n: int):\n",
    "        \"\"\"\n",
    "        Returns a random height and weight based on a random aspect ratio and a random scale.\\\\\n",
    "        Length of height and width is `n+1`, the first `n` elements being masks height and width, and the last one being the context height and weight.\n",
    "\n",
    "        Parameters:\n",
    "        - `n`: the number of height and width to be generated. \n",
    "        \"\"\"\n",
    "        aspect_ratio = torch.FloatTensor(n).uniform_(*self.aspect_ratio_range_mask)\n",
    "        scale = torch.FloatTensor(n).uniform_(*self.scale_range_mask)\n",
    "\n",
    "        aspect_ratio = torch.cat((\n",
    "            aspect_ratio,\n",
    "            torch.FloatTensor(1).uniform_(*self.aspect_ratio_range_context))\n",
    "        )\n",
    "        scale = torch.cat(\n",
    "            (scale, torch.FloatTensor(1).uniform_(*self.scale_range_context))\n",
    "        )\n",
    "\n",
    "        # calculate area, width and height of each mask and context\n",
    "        area = scale * (self.sqrt_count_patch**2)\n",
    "        height = torch.sqrt(area / aspect_ratio).round().int()\n",
    "        width = torch.sqrt(area * aspect_ratio).round().int()\n",
    "\n",
    "        return height, width\n",
    "\n",
    "    def __getitem__(self, idx):\n",
    "        \"\"\"\n",
    "        Returns a tuple of 3 elements:\n",
    "        -\n",
    "        -\n",
    "        -\n",
    "        \"\"\"\n",
    "        img_path = os.path.join(self.dataset_path, self.df.iloc[idx][\"pth\"])\n",
    "        img = pil_to_tensor(Image.open(img_path)).permute(1, 2, 0)  # 96 x 96 x 3\n",
    "\n",
    "        # random height and width for masks\n",
    "        heights, widths = self.get_random_width_and_height(self.nb_mask)\n",
    "        xs = np.random.randint(low=self.sqrt_count_patch - widths[:-1].int() + 1)\n",
    "        ys = np.random.randint(low=self.sqrt_count_patch - heights[:-1].int() + 1)\n",
    "\n",
    "        # calculate patch indexes of mask\n",
    "        masks = []\n",
    "        masks_indexes = set()\n",
    "        z = zip(xs, ys, heights[:-1], widths[:-1])\n",
    "        for x, y, height, width in z:\n",
    "            tmp_mask = torch.cat(\n",
    "                [\n",
    "                    torch.arange(x, x + width) + (y + i) * self.sqrt_count_patch\n",
    "                    for i in range(height)\n",
    "                ]\n",
    "            )\n",
    "\n",
    "            masks_indexes.update(tmp_mask.tolist())\n",
    "            masks.append(tmp_mask)\n",
    "\n",
    "        context_indexes = set(\n",
    "            torch.cat(\n",
    "                [\n",
    "                    torch.arange(xs[-1], xs[-1] + widths[-1])\n",
    "                    + (ys[-1] + i) * self.sqrt_count_patch\n",
    "                    for i in range(heights[-1])\n",
    "                ]\n",
    "            ).tolist()\n",
    "        )\n",
    "\n",
    "        patches = img.view(self.sqrt_count_patch, self.patch_size, self.sqrt_count_patch, self.patch_size, 3) # 12, 8, 12, 8, 3\n",
    "        patches = patches.permute(0, 2, 1, 3, 4) # 12, 12, 8, 8, 3\n",
    "        patches = patches.reshape(-1, self.patch_size, self.patch_size, 3)\n",
    "\n",
    "        return (\n",
    "            patches,\n",
    "            context_indexes - masks_indexes,\n",
    "            masks,\n",
    "        )\n"
   ]
  },
  {
   "cell_type": "code",
   "execution_count": 3,
   "metadata": {},
   "outputs": [],
   "source": [
    "dataset = AffectNetDataset(\n",
    "    dataset_path=os.path.join(\"dataset\", \"archive\"),\n",
    "    labels_filename=\"labels.csv\",\n",
    "    img_size=96,\n",
    "    patch_size=12,\n",
    ")"
   ]
  },
  {
   "cell_type": "code",
   "execution_count": 8,
   "metadata": {},
   "outputs": [],
   "source": [
    "img, context_indexes, masks = dataset[0]"
   ]
  },
  {
   "cell_type": "code",
   "execution_count": 9,
   "metadata": {},
   "outputs": [
    {
     "name": "stdout",
     "output_type": "stream",
     "text": [
      "[tensor([35, 36, 37, 38, 43, 44, 45, 46, 51, 52, 53, 54]), tensor([24, 25, 26, 27, 32, 33, 34, 35, 40, 41, 42, 43]), tensor([44, 45, 46, 52, 53, 54, 60, 61, 62]), tensor([10, 11, 12, 13, 18, 19, 20, 21, 26, 27, 28, 29])]\n"
     ]
    }
   ],
   "source": [
    "print(masks)"
   ]
  },
  {
   "cell_type": "code",
   "execution_count": 10,
   "metadata": {},
   "outputs": [
    {
     "data": {
      "text/plain": [
       "[]"
      ]
     },
     "execution_count": 10,
     "metadata": {},
     "output_type": "execute_result"
    },
    {
     "data": {
      "image/png": "[encoded data removed]",
      "text/plain": [
       "<Figure size 400x400 with 64 Axes>"
      ]
     },
     "metadata": {},
     "output_type": "display_data"
    }
   ],
   "source": [
    "l = dataset.sqrt_count_patch\n",
    "\n",
    "f, axarr = plt.subplots(l, l, gridspec_kw={'wspace': 0, 'hspace': 0},  figsize=(4, 4))\n",
    "for i in range(l):\n",
    "  for j in range(l):\n",
    "    if i * l + j in context_indexes:\n",
    "      axarr[i, j].imshow(img[i * l + j])\n",
    "    else:\n",
    "      axarr[i, j].imshow(img[i * l + j] // 10)\n",
    "    axarr[i, j].axis(\"off\")\n",
    "    axarr[i, j].grid(False)\n",
    "\n",
    "plt.subplots_adjust(left=0, right=1, top=1, bottom=0, wspace=0, hspace=0)\n",
    "plt.plot()"
   ]
  }
 ],
 "metadata": {
  "kernelspec": {
   "display_name": "Python 3",
   "language": "python",
   "name": "python3"
  },
  "language_info": {
   "codemirror_mode": {
    "name": "ipython",
    "version": 3
   },
   "file_extension": ".py",
   "mimetype": "text/x-python",
   "name": "python",
   "nbconvert_exporter": "python",
   "pygments_lexer": "ipython3",
   "version": "3.12.8"
  }
 },
 "nbformat": 4,
 "nbformat_minor": 2
}
